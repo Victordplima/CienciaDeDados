{
 "cells": [
  {
   "cell_type": "code",
   "execution_count": 1,
   "metadata": {},
   "outputs": [
    {
     "name": "stderr",
     "output_type": "stream",
     "text": [
      "C:\\Users\\1-22-11301\\AppData\\Local\\Temp\\ipykernel_12776\\1863977949.py:1: DeprecationWarning: \n",
      "Pyarrow will become a required dependency of pandas in the next major release of pandas (pandas 3.0),\n",
      "(to allow more performant data types, such as the Arrow string type, and better interoperability with other libraries)\n",
      "but was not found to be installed on your system.\n",
      "If this would cause problems for you,\n",
      "please provide us feedback at https://github.com/pandas-dev/pandas/issues/54466\n",
      "        \n",
      "  import pandas as pd\n"
     ]
    }
   ],
   "source": [
    "import pandas as pd\n",
    "import matplotlib.pyplot as plt\n",
    "from datetime import datetime"
   ]
  },
  {
   "cell_type": "code",
   "execution_count": 2,
   "metadata": {},
   "outputs": [],
   "source": [
    "df = pd.read_csv('./Dados/dados_sinteticos_com_erros_atualizado.csv')"
   ]
  },
  {
   "cell_type": "code",
   "execution_count": 3,
   "metadata": {},
   "outputs": [
    {
     "data": {
      "text/html": [
       "<div>\n",
       "<style scoped>\n",
       "    .dataframe tbody tr th:only-of-type {\n",
       "        vertical-align: middle;\n",
       "    }\n",
       "\n",
       "    .dataframe tbody tr th {\n",
       "        vertical-align: top;\n",
       "    }\n",
       "\n",
       "    .dataframe thead th {\n",
       "        text-align: right;\n",
       "    }\n",
       "</style>\n",
       "<table border=\"1\" class=\"dataframe\">\n",
       "  <thead>\n",
       "    <tr style=\"text-align: right;\">\n",
       "      <th></th>\n",
       "      <th>id</th>\n",
       "      <th>data</th>\n",
       "      <th>hora</th>\n",
       "      <th>cliente</th>\n",
       "      <th>produto</th>\n",
       "      <th>valor_x</th>\n",
       "      <th>quantidade</th>\n",
       "      <th>total</th>\n",
       "      <th>status</th>\n",
       "      <th>cidade</th>\n",
       "      <th>...</th>\n",
       "      <th>cor</th>\n",
       "      <th>tamanho</th>\n",
       "      <th>peso</th>\n",
       "      <th>altura</th>\n",
       "      <th>largura</th>\n",
       "      <th>comprimento</th>\n",
       "      <th>categoria_y</th>\n",
       "      <th>valor_y</th>\n",
       "      <th>categoria</th>\n",
       "      <th>valor</th>\n",
       "    </tr>\n",
       "  </thead>\n",
       "  <tbody>\n",
       "    <tr>\n",
       "      <th>0</th>\n",
       "      <td>1</td>\n",
       "      <td>2017-09-20</td>\n",
       "      <td>08:12:57</td>\n",
       "      <td>Filipe Cruz</td>\n",
       "      <td>Isotônico Coca-Cola</td>\n",
       "      <td>96.87</td>\n",
       "      <td>7</td>\n",
       "      <td>38.092982</td>\n",
       "      <td>em separação</td>\n",
       "      <td>Cidade</td>\n",
       "      <td>...</td>\n",
       "      <td>NaN</td>\n",
       "      <td></td>\n",
       "      <td>83.75</td>\n",
       "      <td>12.89</td>\n",
       "      <td>35.11</td>\n",
       "      <td>56.99</td>\n",
       "      <td>bebidas</td>\n",
       "      <td>5.441855</td>\n",
       "      <td>bebidas</td>\n",
       "      <td>5.441855</td>\n",
       "    </tr>\n",
       "    <tr>\n",
       "      <th>1</th>\n",
       "      <td>2</td>\n",
       "      <td>2019-07-17</td>\n",
       "      <td>18:26:47</td>\n",
       "      <td>Daniel Silva</td>\n",
       "      <td>Lembrancinha Festa Box</td>\n",
       "      <td>92.21</td>\n",
       "      <td>7</td>\n",
       "      <td>123.142236</td>\n",
       "      <td>em trânsito</td>\n",
       "      <td>Cidade</td>\n",
       "      <td>...</td>\n",
       "      <td>NaN</td>\n",
       "      <td></td>\n",
       "      <td>60.02</td>\n",
       "      <td>54.85</td>\n",
       "      <td>15.35</td>\n",
       "      <td>41.05</td>\n",
       "      <td>artigos para festas</td>\n",
       "      <td>17.591748</td>\n",
       "      <td>artigos para festas</td>\n",
       "      <td>17.591748</td>\n",
       "    </tr>\n",
       "    <tr>\n",
       "      <th>2</th>\n",
       "      <td>3</td>\n",
       "      <td>2018-01-20</td>\n",
       "      <td>15:55:07</td>\n",
       "      <td>Victor Silva</td>\n",
       "      <td>Convite Piffer</td>\n",
       "      <td>170.19</td>\n",
       "      <td>5</td>\n",
       "      <td>37.268889</td>\n",
       "      <td>cancelado</td>\n",
       "      <td>Cidade</td>\n",
       "      <td>...</td>\n",
       "      <td>NaN</td>\n",
       "      <td></td>\n",
       "      <td>20.81</td>\n",
       "      <td>20.38</td>\n",
       "      <td>75.42</td>\n",
       "      <td>46.84</td>\n",
       "      <td>artigos para festas</td>\n",
       "      <td>7.453778</td>\n",
       "      <td>artigos para festas</td>\n",
       "      <td>7.453778</td>\n",
       "    </tr>\n",
       "    <tr>\n",
       "      <th>3</th>\n",
       "      <td>4</td>\n",
       "      <td>2016-06-21</td>\n",
       "      <td>11:36:07</td>\n",
       "      <td>Vanessa Rodrigues</td>\n",
       "      <td>Vinho Heineken</td>\n",
       "      <td>151.80</td>\n",
       "      <td>10</td>\n",
       "      <td>15.517708</td>\n",
       "      <td>entregue</td>\n",
       "      <td>Cidade</td>\n",
       "      <td>...</td>\n",
       "      <td>NaN</td>\n",
       "      <td></td>\n",
       "      <td>44.59</td>\n",
       "      <td>4.68</td>\n",
       "      <td>32.67</td>\n",
       "      <td>91.61</td>\n",
       "      <td>bebidas</td>\n",
       "      <td>1.551771</td>\n",
       "      <td>bebidas</td>\n",
       "      <td>1.551771</td>\n",
       "    </tr>\n",
       "    <tr>\n",
       "      <th>4</th>\n",
       "      <td>5</td>\n",
       "      <td>2015-05-01</td>\n",
       "      <td>18:08:24</td>\n",
       "      <td>Luiz Bandeira</td>\n",
       "      <td>Chinelo Fila</td>\n",
       "      <td>82.24</td>\n",
       "      <td>7</td>\n",
       "      <td>326.226314</td>\n",
       "      <td>em separação</td>\n",
       "      <td>Cidade</td>\n",
       "      <td>...</td>\n",
       "      <td>amarelo</td>\n",
       "      <td></td>\n",
       "      <td>92.52</td>\n",
       "      <td>57.52</td>\n",
       "      <td>33.77</td>\n",
       "      <td>49.21</td>\n",
       "      <td>calçados</td>\n",
       "      <td>46.603759</td>\n",
       "      <td>calçados</td>\n",
       "      <td>46.603759</td>\n",
       "    </tr>\n",
       "  </tbody>\n",
       "</table>\n",
       "<p>5 rows × 29 columns</p>\n",
       "</div>"
      ],
      "text/plain": [
       "   id        data      hora            cliente                 produto  \\\n",
       "0   1  2017-09-20  08:12:57        Filipe Cruz     Isotônico Coca-Cola   \n",
       "1   2  2019-07-17  18:26:47       Daniel Silva  Lembrancinha Festa Box   \n",
       "2   3  2018-01-20  15:55:07       Victor Silva          Convite Piffer   \n",
       "3   4  2016-06-21  11:36:07  Vanessa Rodrigues          Vinho Heineken   \n",
       "4   5  2015-05-01  18:08:24      Luiz Bandeira            Chinelo Fila   \n",
       "\n",
       "   valor_x  quantidade       total        status  cidade  ...      cor  \\\n",
       "0    96.87           7   38.092982  em separação  Cidade  ...      NaN   \n",
       "1    92.21           7  123.142236   em trânsito  Cidade  ...      NaN   \n",
       "2   170.19           5   37.268889     cancelado  Cidade  ...      NaN   \n",
       "3   151.80          10   15.517708      entregue  Cidade  ...      NaN   \n",
       "4    82.24           7  326.226314  em separação  Cidade  ...  amarelo   \n",
       "\n",
       "  tamanho   peso  altura largura comprimento          categoria_y    valor_y  \\\n",
       "0          83.75   12.89   35.11       56.99              bebidas   5.441855   \n",
       "1          60.02   54.85   15.35       41.05  artigos para festas  17.591748   \n",
       "2          20.81   20.38   75.42       46.84  artigos para festas   7.453778   \n",
       "3          44.59    4.68   32.67       91.61              bebidas   1.551771   \n",
       "4          92.52   57.52   33.77       49.21             calçados  46.603759   \n",
       "\n",
       "             categoria      valor  \n",
       "0              bebidas   5.441855  \n",
       "1  artigos para festas  17.591748  \n",
       "2  artigos para festas   7.453778  \n",
       "3              bebidas   1.551771  \n",
       "4             calçados  46.603759  \n",
       "\n",
       "[5 rows x 29 columns]"
      ]
     },
     "execution_count": 3,
     "metadata": {},
     "output_type": "execute_result"
    }
   ],
   "source": [
    "df.head()"
   ]
  },
  {
   "cell_type": "code",
   "execution_count": 4,
   "metadata": {},
   "outputs": [
    {
     "data": {
      "image/png": "[encoded data removed]",
      "text/plain": [
       "<Figure size 640x480 with 1 Axes>"
      ]
     },
     "metadata": {},
     "output_type": "display_data"
    }
   ],
   "source": [
    "df.boxplot(column='quantidade')\n",
    "plt.show()"
   ]
  },
  {
   "cell_type": "code",
   "execution_count": 5,
   "metadata": {},
   "outputs": [
    {
     "data": {
      "text/plain": [
       "id                  0\n",
       "data                0\n",
       "hora                0\n",
       "cliente             0\n",
       "produto             0\n",
       "valor_x             0\n",
       "quantidade          0\n",
       "total               0\n",
       "status              0\n",
       "cidade              0\n",
       "estado              0\n",
       "pais                0\n",
       "cep                 0\n",
       "frete               0\n",
       "pagamento           0\n",
       "vendedor            0\n",
       "categoria_x         0\n",
       "marca               0\n",
       "modelo              0\n",
       "cor            160226\n",
       "tamanho             0\n",
       "peso                0\n",
       "altura              0\n",
       "largura             0\n",
       "comprimento         0\n",
       "categoria_y         0\n",
       "valor_y             0\n",
       "categoria           0\n",
       "valor               0\n",
       "dtype: int64"
      ]
     },
     "execution_count": 5,
     "metadata": {},
     "output_type": "execute_result"
    }
   ],
   "source": [
    "df.isnull().sum()"
   ]
  },
  {
   "cell_type": "code",
   "execution_count": 6,
   "metadata": {},
   "outputs": [],
   "source": [
    "df['cor'] = df['cor'].fillna('transparente')"
   ]
  },
  {
   "cell_type": "code",
   "execution_count": 7,
   "metadata": {},
   "outputs": [
    {
     "data": {
      "text/plain": [
       "id             0\n",
       "data           0\n",
       "hora           0\n",
       "cliente        0\n",
       "produto        0\n",
       "valor_x        0\n",
       "quantidade     0\n",
       "total          0\n",
       "status         0\n",
       "cidade         0\n",
       "estado         0\n",
       "pais           0\n",
       "cep            0\n",
       "frete          0\n",
       "pagamento      0\n",
       "vendedor       0\n",
       "categoria_x    0\n",
       "marca          0\n",
       "modelo         0\n",
       "cor            0\n",
       "tamanho        0\n",
       "peso           0\n",
       "altura         0\n",
       "largura        0\n",
       "comprimento    0\n",
       "categoria_y    0\n",
       "valor_y        0\n",
       "categoria      0\n",
       "valor          0\n",
       "dtype: int64"
      ]
     },
     "execution_count": 7,
     "metadata": {},
     "output_type": "execute_result"
    }
   ],
   "source": [
    "df.isnull().sum()"
   ]
  },
  {
   "cell_type": "code",
   "execution_count": 8,
   "metadata": {},
   "outputs": [
    {
     "name": "stdout",
     "output_type": "stream",
     "text": [
      "Empty DataFrame\n",
      "Columns: [id, data, hora, cliente, produto, valor_x, quantidade, total, status, cidade, estado, pais, cep, frete, pagamento, vendedor, categoria_x, marca, modelo, cor, tamanho, peso, altura, largura, comprimento, categoria_y, valor_y, categoria, valor]\n",
      "Index: []\n",
      "\n",
      "[0 rows x 29 columns]\n"
     ]
    }
   ],
   "source": [
    "print(df[df.isnull().any(axis=1)])"
   ]
  },
  {
   "cell_type": "code",
   "execution_count": 9,
   "metadata": {},
   "outputs": [
    {
     "name": "stdout",
     "output_type": "stream",
     "text": [
      "['Brasil' 'Chile' 'Uruguai' 'Paraguai' 'Colômbia' 'Argentina']\n",
      "['PR' 'PE' 'SC' 'GO' 'BA' 'TO' 'RO' 'CE' 'PB' 'RJ' 'AL' 'MA' 'AP' 'RS'\n",
      " 'SP' 'DF' 'SE' 'MG' 'MS' 'AC' 'RR' 'RN' 'ES' 'PI' 'AM' 'PA' 'MT']\n"
     ]
    }
   ],
   "source": [
    "print(df['pais'].unique())\n",
    "print(df['estado'].unique())"
   ]
  },
  {
   "cell_type": "code",
   "execution_count": 10,
   "metadata": {},
   "outputs": [
    {
     "name": "stdout",
     "output_type": "stream",
     "text": [
      "['Brasil' 'Indefinido']\n"
     ]
    }
   ],
   "source": [
    "df.loc[df['pais'] != 'Brasil', 'pais'] = 'Indefinido'\n",
    "print(df['pais'].unique())"
   ]
  },
  {
   "cell_type": "code",
   "execution_count": 11,
   "metadata": {},
   "outputs": [
    {
     "name": "stdout",
     "output_type": "stream",
     "text": [
      "0\n",
      "0\n"
     ]
    }
   ],
   "source": [
    "print(df.duplicated().sum())\n",
    "df = df.drop_duplicates()\n",
    "print(df.duplicated().sum())"
   ]
  },
  {
   "cell_type": "code",
   "execution_count": 12,
   "metadata": {},
   "outputs": [
    {
     "name": "stdout",
     "output_type": "stream",
     "text": [
      "['bebidas' 'artigos para festas' 'calçados' 'alimentos' 'informática'\n",
      " 'eletrônicos' 'brinquedos' 'petshop' 'acessórios' 'automotivo' 'casa'\n",
      " 'beleza' 'saúde' 'lazer' 'esportes' 'móveis' 'roupas' 'livros'\n",
      " 'papelaria']\n",
      "['bebidas' 'artigos para festas' 'calçados' 'alimentos' 'informática'\n",
      " 'eletrônicos' 'brinquedos' 'petshop' 'acessórios' 'automotivo' 'casa'\n",
      " 'beleza' 'saúde' 'lazer' 'esportes' 'móveis' 'roupas' 'livros'\n",
      " 'papelaria']\n",
      "['bebidas' 'artigos para festas' 'calçados' 'alimentos' 'informática'\n",
      " 'brinquedos' 'acessórios' 'automotivo' 'casa' 'beleza' 'eletrônicos'\n",
      " 'lazer' 'esportes' 'móveis' 'roupas' 'livros' 'papelaria' 'petshop'\n",
      " 'saúde']\n",
      "[ 7  5 10  1  9  4  8  3  2  6]\n",
      "['Loja 1' 'Loja 3' 'Loja 2']\n"
     ]
    }
   ],
   "source": [
    "print(df['categoria'].unique())\n",
    "print(df['categoria_y'].unique())\n",
    "print(df['categoria_x'].unique())\n",
    "print(df['quantidade'].unique())\n",
    "print(df['vendedor'].unique())"
   ]
  },
  {
   "cell_type": "code",
   "execution_count": 13,
   "metadata": {},
   "outputs": [
    {
     "data": {
      "text/html": [
       "<div>\n",
       "<style scoped>\n",
       "    .dataframe tbody tr th:only-of-type {\n",
       "        vertical-align: middle;\n",
       "    }\n",
       "\n",
       "    .dataframe tbody tr th {\n",
       "        vertical-align: top;\n",
       "    }\n",
       "\n",
       "    .dataframe thead th {\n",
       "        text-align: right;\n",
       "    }\n",
       "</style>\n",
       "<table border=\"1\" class=\"dataframe\">\n",
       "  <thead>\n",
       "    <tr style=\"text-align: right;\">\n",
       "      <th></th>\n",
       "      <th>data</th>\n",
       "    </tr>\n",
       "  </thead>\n",
       "  <tbody>\n",
       "    <tr>\n",
       "      <th>0</th>\n",
       "      <td>2017-09-20</td>\n",
       "    </tr>\n",
       "    <tr>\n",
       "      <th>1</th>\n",
       "      <td>2019-07-17</td>\n",
       "    </tr>\n",
       "    <tr>\n",
       "      <th>2</th>\n",
       "      <td>2018-01-20</td>\n",
       "    </tr>\n",
       "    <tr>\n",
       "      <th>3</th>\n",
       "      <td>2016-06-21</td>\n",
       "    </tr>\n",
       "    <tr>\n",
       "      <th>4</th>\n",
       "      <td>2015-05-01</td>\n",
       "    </tr>\n",
       "  </tbody>\n",
       "</table>\n",
       "</div>"
      ],
      "text/plain": [
       "         data\n",
       "0  2017-09-20\n",
       "1  2019-07-17\n",
       "2  2018-01-20\n",
       "3  2016-06-21\n",
       "4  2015-05-01"
      ]
     },
     "execution_count": 13,
     "metadata": {},
     "output_type": "execute_result"
    }
   ],
   "source": [
    "# Data\n",
    "df_datas = pd.DataFrame()\n",
    "df_datas['data'] = df['data']\n",
    "df_datas.head()"
   ]
  },
  {
   "cell_type": "code",
   "execution_count": 14,
   "metadata": {},
   "outputs": [
    {
     "data": {
      "text/html": [
       "<div>\n",
       "<style scoped>\n",
       "    .dataframe tbody tr th:only-of-type {\n",
       "        vertical-align: middle;\n",
       "    }\n",
       "\n",
       "    .dataframe tbody tr th {\n",
       "        vertical-align: top;\n",
       "    }\n",
       "\n",
       "    .dataframe thead th {\n",
       "        text-align: right;\n",
       "    }\n",
       "</style>\n",
       "<table border=\"1\" class=\"dataframe\">\n",
       "  <thead>\n",
       "    <tr style=\"text-align: right;\">\n",
       "      <th></th>\n",
       "      <th>data</th>\n",
       "      <th>dia</th>\n",
       "      <th>mes</th>\n",
       "      <th>ano</th>\n",
       "      <th>idade</th>\n",
       "    </tr>\n",
       "  </thead>\n",
       "  <tbody>\n",
       "    <tr>\n",
       "      <th>0</th>\n",
       "      <td>2017-09-20</td>\n",
       "      <td>20</td>\n",
       "      <td>9</td>\n",
       "      <td>2017</td>\n",
       "      <td>7</td>\n",
       "    </tr>\n",
       "    <tr>\n",
       "      <th>1</th>\n",
       "      <td>2019-07-17</td>\n",
       "      <td>17</td>\n",
       "      <td>7</td>\n",
       "      <td>2019</td>\n",
       "      <td>5</td>\n",
       "    </tr>\n",
       "    <tr>\n",
       "      <th>2</th>\n",
       "      <td>2018-01-20</td>\n",
       "      <td>20</td>\n",
       "      <td>1</td>\n",
       "      <td>2018</td>\n",
       "      <td>6</td>\n",
       "    </tr>\n",
       "    <tr>\n",
       "      <th>3</th>\n",
       "      <td>2016-06-21</td>\n",
       "      <td>21</td>\n",
       "      <td>6</td>\n",
       "      <td>2016</td>\n",
       "      <td>8</td>\n",
       "    </tr>\n",
       "    <tr>\n",
       "      <th>4</th>\n",
       "      <td>2015-05-01</td>\n",
       "      <td>1</td>\n",
       "      <td>5</td>\n",
       "      <td>2015</td>\n",
       "      <td>9</td>\n",
       "    </tr>\n",
       "  </tbody>\n",
       "</table>\n",
       "</div>"
      ],
      "text/plain": [
       "        data  dia  mes   ano  idade\n",
       "0 2017-09-20   20    9  2017      7\n",
       "1 2019-07-17   17    7  2019      5\n",
       "2 2018-01-20   20    1  2018      6\n",
       "3 2016-06-21   21    6  2016      8\n",
       "4 2015-05-01    1    5  2015      9"
      ]
     },
     "execution_count": 14,
     "metadata": {},
     "output_type": "execute_result"
    }
   ],
   "source": [
    "df_datas['data'] = pd.to_datetime(df_datas['data'], errors='coerce')\n",
    "linhas_com_erro = df_datas[df_datas['data'].isna()]\n",
    "\n",
    "if not linhas_com_erro.empty:\n",
    "    print(\"Linhas com datas não convertíveis para datetime:\")\n",
    "    print(linhas_com_erro)\n",
    "\n",
    "# Para as linhas válidas, extração de dia, mês e ano, e cálculo da idade\n",
    "df_datas.dropna(subset=['data'], inplace=True)  # Opcional: remover linhas com NaT se desejar\n",
    "df_datas['dia'] = df_datas['data'].dt.day\n",
    "df_datas['mes'] = df_datas['data'].dt.month\n",
    "df_datas['ano'] = df_datas['data'].dt.year\n",
    "df_datas['idade'] = 2024 - df_datas['ano']\n",
    "\n",
    "df_datas.head()\n"
   ]
  },
  {
   "cell_type": "code",
   "execution_count": 19,
   "metadata": {},
   "outputs": [
    {
     "name": "stdout",
     "output_type": "stream",
     "text": [
      "[7 5 6 8 9]\n"
     ]
    }
   ],
   "source": [
    "print(df_datas['idade'].unique())\n",
    "\n",
    "# categoria x ta certo\n",
    "# valor x ta certo"
   ]
  },
  {
   "cell_type": "code",
   "execution_count": 21,
   "metadata": {},
   "outputs": [],
   "source": [
    "df = df.drop(columns=['categoria_y'], axis=1)\n",
    "df = df.drop(columns=['total'], axis=1)\n",
    "df = df.drop(columns=['valor_y'], axis=1)\n",
    "df = df.drop(columns=['valor'], axis=1)\n",
    "df = df.drop(columns=['categoria'], axis=1)"
   ]
  },
  {
   "cell_type": "code",
   "execution_count": 22,
   "metadata": {},
   "outputs": [
    {
     "data": {
      "text/html": [
       "<div>\n",
       "<style scoped>\n",
       "    .dataframe tbody tr th:only-of-type {\n",
       "        vertical-align: middle;\n",
       "    }\n",
       "\n",
       "    .dataframe tbody tr th {\n",
       "        vertical-align: top;\n",
       "    }\n",
       "\n",
       "    .dataframe thead th {\n",
       "        text-align: right;\n",
       "    }\n",
       "</style>\n",
       "<table border=\"1\" class=\"dataframe\">\n",
       "  <thead>\n",
       "    <tr style=\"text-align: right;\">\n",
       "      <th></th>\n",
       "      <th>id</th>\n",
       "      <th>data</th>\n",
       "      <th>hora</th>\n",
       "      <th>cliente</th>\n",
       "      <th>produto</th>\n",
       "      <th>valor_x</th>\n",
       "      <th>quantidade</th>\n",
       "      <th>status</th>\n",
       "      <th>cidade</th>\n",
       "      <th>estado</th>\n",
       "      <th>...</th>\n",
       "      <th>vendedor</th>\n",
       "      <th>categoria_x</th>\n",
       "      <th>marca</th>\n",
       "      <th>modelo</th>\n",
       "      <th>cor</th>\n",
       "      <th>tamanho</th>\n",
       "      <th>peso</th>\n",
       "      <th>altura</th>\n",
       "      <th>largura</th>\n",
       "      <th>comprimento</th>\n",
       "    </tr>\n",
       "  </thead>\n",
       "  <tbody>\n",
       "    <tr>\n",
       "      <th>0</th>\n",
       "      <td>1</td>\n",
       "      <td>2017-09-20</td>\n",
       "      <td>08:12:57</td>\n",
       "      <td>Filipe Cruz</td>\n",
       "      <td>Isotônico Coca-Cola</td>\n",
       "      <td>96.87</td>\n",
       "      <td>7</td>\n",
       "      <td>em separação</td>\n",
       "      <td>Cidade</td>\n",
       "      <td>PR</td>\n",
       "      <td>...</td>\n",
       "      <td>Loja 1</td>\n",
       "      <td>bebidas</td>\n",
       "      <td>Coca-Cola</td>\n",
       "      <td>Isotônico</td>\n",
       "      <td>transparente</td>\n",
       "      <td></td>\n",
       "      <td>83.75</td>\n",
       "      <td>12.89</td>\n",
       "      <td>35.11</td>\n",
       "      <td>56.99</td>\n",
       "    </tr>\n",
       "    <tr>\n",
       "      <th>1</th>\n",
       "      <td>2</td>\n",
       "      <td>2019-07-17</td>\n",
       "      <td>18:26:47</td>\n",
       "      <td>Daniel Silva</td>\n",
       "      <td>Lembrancinha Festa Box</td>\n",
       "      <td>92.21</td>\n",
       "      <td>7</td>\n",
       "      <td>em trânsito</td>\n",
       "      <td>Cidade</td>\n",
       "      <td>PE</td>\n",
       "      <td>...</td>\n",
       "      <td>Loja 3</td>\n",
       "      <td>artigos para festas</td>\n",
       "      <td>Festa Box</td>\n",
       "      <td>Lembrancinha</td>\n",
       "      <td>transparente</td>\n",
       "      <td></td>\n",
       "      <td>60.02</td>\n",
       "      <td>54.85</td>\n",
       "      <td>15.35</td>\n",
       "      <td>41.05</td>\n",
       "    </tr>\n",
       "    <tr>\n",
       "      <th>2</th>\n",
       "      <td>3</td>\n",
       "      <td>2018-01-20</td>\n",
       "      <td>15:55:07</td>\n",
       "      <td>Victor Silva</td>\n",
       "      <td>Convite Piffer</td>\n",
       "      <td>170.19</td>\n",
       "      <td>5</td>\n",
       "      <td>cancelado</td>\n",
       "      <td>Cidade</td>\n",
       "      <td>SC</td>\n",
       "      <td>...</td>\n",
       "      <td>Loja 3</td>\n",
       "      <td>artigos para festas</td>\n",
       "      <td>Piffer</td>\n",
       "      <td>Convite</td>\n",
       "      <td>transparente</td>\n",
       "      <td></td>\n",
       "      <td>20.81</td>\n",
       "      <td>20.38</td>\n",
       "      <td>75.42</td>\n",
       "      <td>46.84</td>\n",
       "    </tr>\n",
       "    <tr>\n",
       "      <th>3</th>\n",
       "      <td>4</td>\n",
       "      <td>2016-06-21</td>\n",
       "      <td>11:36:07</td>\n",
       "      <td>Vanessa Rodrigues</td>\n",
       "      <td>Vinho Heineken</td>\n",
       "      <td>151.80</td>\n",
       "      <td>10</td>\n",
       "      <td>entregue</td>\n",
       "      <td>Cidade</td>\n",
       "      <td>GO</td>\n",
       "      <td>...</td>\n",
       "      <td>Loja 3</td>\n",
       "      <td>bebidas</td>\n",
       "      <td>Heineken</td>\n",
       "      <td>Vinho</td>\n",
       "      <td>transparente</td>\n",
       "      <td></td>\n",
       "      <td>44.59</td>\n",
       "      <td>4.68</td>\n",
       "      <td>32.67</td>\n",
       "      <td>91.61</td>\n",
       "    </tr>\n",
       "    <tr>\n",
       "      <th>4</th>\n",
       "      <td>5</td>\n",
       "      <td>2015-05-01</td>\n",
       "      <td>18:08:24</td>\n",
       "      <td>Luiz Bandeira</td>\n",
       "      <td>Chinelo Fila</td>\n",
       "      <td>82.24</td>\n",
       "      <td>7</td>\n",
       "      <td>em separação</td>\n",
       "      <td>Cidade</td>\n",
       "      <td>BA</td>\n",
       "      <td>...</td>\n",
       "      <td>Loja 3</td>\n",
       "      <td>calçados</td>\n",
       "      <td>Fila</td>\n",
       "      <td>Chinelo</td>\n",
       "      <td>amarelo</td>\n",
       "      <td></td>\n",
       "      <td>92.52</td>\n",
       "      <td>57.52</td>\n",
       "      <td>33.77</td>\n",
       "      <td>49.21</td>\n",
       "    </tr>\n",
       "  </tbody>\n",
       "</table>\n",
       "<p>5 rows × 24 columns</p>\n",
       "</div>"
      ],
      "text/plain": [
       "   id        data      hora            cliente                 produto  \\\n",
       "0   1  2017-09-20  08:12:57        Filipe Cruz     Isotônico Coca-Cola   \n",
       "1   2  2019-07-17  18:26:47       Daniel Silva  Lembrancinha Festa Box   \n",
       "2   3  2018-01-20  15:55:07       Victor Silva          Convite Piffer   \n",
       "3   4  2016-06-21  11:36:07  Vanessa Rodrigues          Vinho Heineken   \n",
       "4   5  2015-05-01  18:08:24      Luiz Bandeira            Chinelo Fila   \n",
       "\n",
       "   valor_x  quantidade        status  cidade estado  ... vendedor  \\\n",
       "0    96.87           7  em separação  Cidade     PR  ...   Loja 1   \n",
       "1    92.21           7   em trânsito  Cidade     PE  ...   Loja 3   \n",
       "2   170.19           5     cancelado  Cidade     SC  ...   Loja 3   \n",
       "3   151.80          10      entregue  Cidade     GO  ...   Loja 3   \n",
       "4    82.24           7  em separação  Cidade     BA  ...   Loja 3   \n",
       "\n",
       "           categoria_x      marca        modelo           cor tamanho   peso  \\\n",
       "0              bebidas  Coca-Cola     Isotônico  transparente          83.75   \n",
       "1  artigos para festas  Festa Box  Lembrancinha  transparente          60.02   \n",
       "2  artigos para festas     Piffer       Convite  transparente          20.81   \n",
       "3              bebidas   Heineken         Vinho  transparente          44.59   \n",
       "4             calçados       Fila       Chinelo       amarelo          92.52   \n",
       "\n",
       "  altura largura comprimento  \n",
       "0  12.89   35.11       56.99  \n",
       "1  54.85   15.35       41.05  \n",
       "2  20.38   75.42       46.84  \n",
       "3   4.68   32.67       91.61  \n",
       "4  57.52   33.77       49.21  \n",
       "\n",
       "[5 rows x 24 columns]"
      ]
     },
     "execution_count": 22,
     "metadata": {},
     "output_type": "execute_result"
    }
   ],
   "source": [
    "df.head()"
   ]
  },
  {
   "cell_type": "code",
   "execution_count": 25,
   "metadata": {},
   "outputs": [
    {
     "name": "stdout",
     "output_type": "stream",
     "text": [
      "    id        data      hora       cliente       produto  valor_x  quantidade  \\\n",
      "15   9  2017-06-08  08:44:51  Pedro Soares  Jogo Petlove   142.11          10   \n",
      "16   9  2017-06-08  08:44:51  Pedro Soares  Jogo Petlove   142.11          10   \n",
      "17   9  2017-06-08  08:44:51  Pedro Soares  Jogo Petlove   142.11          10   \n",
      "18   9  2017-06-08  08:44:51  Pedro Soares  Jogo Petlove   142.11          10   \n",
      "19   9  2017-06-08  08:44:51  Pedro Soares  Jogo Petlove   142.11          10   \n",
      "20   9  2017-06-08  08:44:51  Pedro Soares  Jogo Petlove   142.11          10   \n",
      "21   9  2017-06-08  08:44:51  Pedro Soares  Jogo Petlove   142.11          10   \n",
      "\n",
      "                  status  cidade estado  ... vendedor  categoria_x    marca  \\\n",
      "15  aguardando pagamento  Cidade     CE  ...   Loja 2   brinquedos  Petlove   \n",
      "16  aguardando pagamento  Cidade     CE  ...   Loja 2   brinquedos  Petlove   \n",
      "17  aguardando pagamento  Cidade     CE  ...   Loja 2   brinquedos  Petlove   \n",
      "18  aguardando pagamento  Cidade     CE  ...   Loja 2   brinquedos  Petlove   \n",
      "19  aguardando pagamento  Cidade     CE  ...   Loja 2   brinquedos  Petlove   \n",
      "20  aguardando pagamento  Cidade     CE  ...   Loja 2   brinquedos  Petlove   \n",
      "21  aguardando pagamento  Cidade     CE  ...   Loja 2   brinquedos  Petlove   \n",
      "\n",
      "   modelo           cor tamanho   peso altura largura comprimento  \n",
      "15   Jogo  transparente          37.77  84.92   72.97       37.71  \n",
      "16   Jogo  transparente          37.77  84.92   72.97       37.71  \n",
      "17   Jogo  transparente          37.77  84.92   72.97       37.71  \n",
      "18   Jogo  transparente          37.77  84.92   72.97       37.71  \n",
      "19   Jogo  transparente          37.77  84.92   72.97       37.71  \n",
      "20   Jogo  transparente          37.77  84.92   72.97       37.71  \n",
      "21   Jogo  transparente          37.77  84.92   72.97       37.71  \n",
      "\n",
      "[7 rows x 24 columns]\n"
     ]
    }
   ],
   "source": [
    "linhas_17_24 = df.iloc[15:22]\n",
    "print(linhas_17_24)"
   ]
  },
  {
   "cell_type": "code",
   "execution_count": 27,
   "metadata": {},
   "outputs": [
    {
     "name": "stdout",
     "output_type": "stream",
     "text": [
      "164311\n"
     ]
    }
   ],
   "source": [
    "print(df.duplicated().sum())"
   ]
  },
  {
   "cell_type": "code",
   "execution_count": 28,
   "metadata": {},
   "outputs": [],
   "source": [
    "df = df.drop_duplicates()"
   ]
  },
  {
   "cell_type": "code",
   "execution_count": 29,
   "metadata": {},
   "outputs": [
    {
     "data": {
      "text/plain": [
       "(50000, 24)"
      ]
     },
     "execution_count": 29,
     "metadata": {},
     "output_type": "execute_result"
    }
   ],
   "source": [
    "df.shape"
   ]
  }
 ],
 "metadata": {
  "kernelspec": {
   "display_name": "Python 3",
   "language": "python",
   "name": "python3"
  },
  "language_info": {
   "codemirror_mode": {
    "name": "ipython",
    "version": 3
   },
   "file_extension": ".py",
   "mimetype": "text/x-python",
   "name": "python",
   "nbconvert_exporter": "python",
   "pygments_lexer": "ipython3",
   "version": "3.12.1"
  }
 },
 "nbformat": 4,
 "nbformat_minor": 2
}
