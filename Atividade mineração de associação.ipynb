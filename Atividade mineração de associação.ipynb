{
 "cells": [
  {
   "cell_type": "code",
   "execution_count": null,
   "metadata": {},
   "outputs": [],
   "source": [
    "import pandas as pd\n",
    "from apyori import apriori\n",
    "from mlxtend.frequent_patterns import fpgrowth\n",
    "from mlxtend.frequent_patterns import association_rules\n",
    "from mlxtend.preprocessing import TransactionEncoder"
   ]
  },
  {
   "cell_type": "code",
   "execution_count": null,
   "metadata": {},
   "outputs": [],
   "source": [
    "df = pd.read_csv('Dados/compras.csv')\n",
    "df = df.drop(columns=['cliente'])"
   ]
  },
  {
   "cell_type": "code",
   "execution_count": null,
   "metadata": {},
   "outputs": [],
   "source": [
    "df.head()"
   ]
  },
  {
   "cell_type": "code",
   "execution_count": null,
   "metadata": {},
   "outputs": [],
   "source": [
    "itens_mais_comprados = df.stack().value_counts()\n",
    "itens_mais_comprados.head(20)"
   ]
  },
  {
   "cell_type": "code",
   "execution_count": null,
   "metadata": {},
   "outputs": [],
   "source": [
    "transactions = []\n",
    "for i in range(0,df.shape[0]):\n",
    "    transactions.append([str(df.values[i,j])for j in range(0,df.shape[1])])"
   ]
  },
  {
   "cell_type": "code",
   "execution_count": null,
   "metadata": {},
   "outputs": [],
   "source": [
    "regras = apriori(transactions=transactions, min_support=0.003, min_confidence=0.2, min_lift=3, min_length=2, max_length=2)"
   ]
  },
  {
   "cell_type": "code",
   "execution_count": null,
   "metadata": {},
   "outputs": [],
   "source": [
    "resultados = list(regras)\n",
    "resultados\n",
    "\n",
    "# Ordenar os resultados pelo valor de lift em ordem decrescente\n",
    "resultados_ordenados = sorted(resultados, key=lambda x: x.ordered_statistics[0].lift, reverse=True)\n",
    "\n",
    "# Imprimir os 10 primeiros resultados ordenados\n",
    "for i, resultado in enumerate(resultados_ordenados[:10], start=1):\n",
    "    print(f\"Regra {i}: {resultado}\")"
   ]
  },
  {
   "cell_type": "code",
   "execution_count": null,
   "metadata": {},
   "outputs": [],
   "source": [
    "df_compras_lista = df.apply(lambda x: x.dropna().tolist(), axis=1).tolist()\n",
    "\n",
    "te = TransactionEncoder()\n",
    "te_ary = te.fit(df_compras_lista).transform(df_compras_lista)\n",
    "\n",
    "# Converte o array resultante em um DataFrame pandas\n",
    "df_onehot = pd.DataFrame(te_ary, columns=te.columns_)\n",
    "\n",
    "# Agora você pode aplicar o fpgrowth no DataFrame one-hot\n",
    "frequent_itemsets = fpgrowth(df_onehot, min_support=0.003,use_colnames=True)\n",
    "rules = association_rules(frequent_itemsets, metric=\"lift\", min_threshold=3)"
   ]
  },
  {
   "cell_type": "code",
   "execution_count": null,
   "metadata": {},
   "outputs": [],
   "source": [
    "rules.size"
   ]
  },
  {
   "cell_type": "code",
   "execution_count": null,
   "metadata": {},
   "outputs": [],
   "source": [
    "rules = rules.sort_values(by='lift', ascending=False)\n",
    "rules.head(10)"
   ]
  },
  {
   "cell_type": "code",
   "execution_count": null,
   "metadata": {},
   "outputs": [],
   "source": [
    "unique_values = df.stack().unique()\n",
    "unique_values_sorted = sorted(unique_values)\n",
    "# print(unique_values_sorted)\n",
    "df.stack().unique()"
   ]
  }
 ],
 "metadata": {
  "kernelspec": {
   "display_name": "Python 3",
   "language": "python",
   "name": "python3"
  },
  "language_info": {
   "codemirror_mode": {
    "name": "ipython",
    "version": 3
   },
   "file_extension": ".py",
   "mimetype": "text/x-python",
   "name": "python",
   "nbconvert_exporter": "python",
   "pygments_lexer": "ipython3",
   "version": "3.12.1"
  }
 },
 "nbformat": 4,
 "nbformat_minor": 2
}
